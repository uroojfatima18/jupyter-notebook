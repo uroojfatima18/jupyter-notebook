{
  "nbformat": 4,
  "nbformat_minor": 0,
  "metadata": {
    "colab": {
      "provenance": [],
      "gpuType": "T4",
      "authorship_tag": "ABX9TyMZ0aY7IWhltSFlWyGgW7vx",
      "include_colab_link": true
    },
    "kernelspec": {
      "name": "python3",
      "display_name": "Python 3"
    },
    "language_info": {
      "name": "python"
    },
    "accelerator": "GPU"
  },
  "cells": [
    {
      "cell_type": "markdown",
      "metadata": {
        "id": "view-in-github",
        "colab_type": "text"
      },
      "source": [
        "<a href=\"https://colab.research.google.com/github/uroojfatima18/jupyter-notebook/blob/main/Basic_projects1.ipynb\" target=\"_parent\"><img src=\"https://colab.research.google.com/assets/colab-badge.svg\" alt=\"Open In Colab\"/></a>"
      ]
    },
    {
      "cell_type": "markdown",
      "source": [
        "# 1. **Joke Bot**\n",
        "Write a simple joke bot. The bot starts by asking the user what they want. However, your program will only respond to one response: Joke.\n",
        "\n",
        "If the user enters Joke then we will print out a single joke. Each time the joke is always the same:\n",
        "\n",
        "If the user enters anything else we print out:\n",
        "\n",
        "Sorry I only tell jokes\n",
        "\n",
        "You should use the three constants:\n",
        "\n",
        "PROMPT JOKE SORRY\n",
        "\n"
      ],
      "metadata": {
        "id": "qzAAhqbNICum"
      }
    },
    {
      "cell_type": "code",
      "source": [
        "#1constant\n",
        "print(\" This program only for JOKE !\")\n",
        "print()\n",
        "PROMPT=\"What you want?\"\n",
        "JOKE=\"\"\"Code notebook par likhna chaiye, Error nh ata!\n",
        "       hehehehe\"\"\"\n",
        "SORRY= \"Sorry, I only tell jokes\"\n",
        "\n",
        "def JOKE_BOT():\n",
        "# get user input\n",
        "    user_input = input(PROMPT)\n",
        " #check user input\n",
        "    if user_input.lower() == \"joke\":\n",
        "        print(JOKE)\n",
        "    else:\n",
        "        print(SORRY)\n",
        "\n",
        "JOKE_BOT()"
      ],
      "metadata": {
        "id": "jqjqjHiCILRO"
      },
      "execution_count": null,
      "outputs": []
    }
  ]
}